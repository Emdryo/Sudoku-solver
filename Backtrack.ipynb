{
 "cells": [
  {
   "cell_type": "code",
   "execution_count": null,
   "metadata": {},
   "outputs": [],
   "source": [
    "import matplotlib.pyplot as plt\n",
    "import numpy as np\n",
    "plt.rcParams[\"figure.figsize\"]=(12,12)\n",
    "\n",
    "\n",
    "def sudoku(Dat):\n",
    "    grid = [[0 for i in range(9)] for j in range(9)]\n",
    "    highlight_color = 'Black'\n",
    "    highlight_linewidth = 2.5\n",
    "\n",
    "    fig, ax = plt.subplots()\n",
    "    ax.matshow(Dat)\n",
    "    for (i, j), z in np.ndenumerate(Dat):\n",
    "        if z==0:\n",
    "            pass\n",
    "        else:\n",
    "            ax.text(j+0.5, i+0.5, '{:0.0f}'.format(z), ha='center', va='center', size=20)\n",
    "    cax = ax.matshow(grid, cmap='Blues')\n",
    "    ax.axhline(y=3, color=highlight_color, linewidth=highlight_linewidth)\n",
    "    ax.axvline(x=3, color=highlight_color, linewidth=highlight_linewidth)\n",
    "    ax.axvline(x=6, color=highlight_color, linewidth=highlight_linewidth)\n",
    "    ax.axhline(y=6, color=highlight_color, linewidth=highlight_linewidth)\n",
    "    ax.set_xticklabels([])\n",
    "    ax.set_yticklabels([])\n",
    "    ax.xaxis.set_ticks_position('top')\n",
    "    ax.grid(True)\n",
    "    ax.set_xlim(0, 9)\n",
    "    ax.set_ylim(0, 9)\n",
    "    plt.show()\n",
    "\n",
    "def grids(Data, i, j, num):\n",
    "    if  num not in Data[:,j] and num not in Data[i,:] and num not in Data[i-i%3:i-i%3+3, j-j%3:j-j%3+3]:\n",
    "        return True\n",
    "    else:\n",
    "        return False\n",
    "    \n",
    "def backtracking(Dat):\n",
    "    Data=np.copy(Dat) #ændre ikke data\n",
    "    for (i, j), z in np.ndenumerate(Data):\n",
    "        if z == 0: #lol\n",
    "            for k in range(1, 10): #sætter et tal og går et op\n",
    "                if grids(Data, i, j, k)==True: #hvis den kan sætte et tal/kriterier opfyldt\n",
    "                    Data[i, j] = k #sæt tal\n",
    "                    if backtracking(Data): #hvis denne ikke kan sætte noget\n",
    "                        return True #returner true\n",
    "                    Data[i, j] = 0 #sæt den til 0 og gå tilbage\n",
    "            return False #hvis der ingen løsning er\n",
    "    return True, #sudoku(Data) #hvis der en løsning, og print\n",
    "\n"
   ]
  },
  {
   "cell_type": "code",
   "execution_count": null,
   "metadata": {},
   "outputs": [],
   "source": []
  }
 ],
 "metadata": {
  "language_info": {
   "name": "python"
  },
  "orig_nbformat": 4
 },
 "nbformat": 4,
 "nbformat_minor": 2
}
